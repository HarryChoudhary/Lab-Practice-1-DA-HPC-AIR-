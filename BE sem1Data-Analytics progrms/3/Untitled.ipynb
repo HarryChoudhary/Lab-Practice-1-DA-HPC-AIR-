{
 "cells": [
  {
   "cell_type": "code",
   "execution_count": 6,
   "metadata": {},
   "outputs": [
    {
     "name": "stdout",
     "output_type": "stream",
     "text": [
      "<class 'pandas.core.frame.DataFrame'>\n",
      "RangeIndex: 8523 entries, 0 to 8522\n",
      "Data columns (total 12 columns):\n",
      "Item_Identifier              8523 non-null object\n",
      "Item_Weight                  7060 non-null float64\n",
      "Item_Fat_Content             8523 non-null object\n",
      "Item_Visibility              8523 non-null float64\n",
      "Item_Type                    8523 non-null object\n",
      "Item_MRP                     8523 non-null float64\n",
      "Outlet_Identifier            8523 non-null object\n",
      "Outlet_Establishment_Year    8523 non-null int64\n",
      "Outlet_Size                  6113 non-null object\n",
      "Outlet_Location_Type         8523 non-null object\n",
      "Outlet_Type                  8523 non-null object\n",
      "Item_Outlet_Sales            8523 non-null float64\n",
      "dtypes: float64(4), int64(1), object(7)\n",
      "memory usage: 799.2+ KB\n",
      "None\n",
      "Item_Identifier              False\n",
      "Item_Weight                   True\n",
      "Item_Fat_Content             False\n",
      "Item_Visibility              False\n",
      "Item_Type                    False\n",
      "Item_MRP                     False\n",
      "Outlet_Identifier            False\n",
      "Outlet_Establishment_Year    False\n",
      "Outlet_Size                   True\n",
      "Outlet_Location_Type         False\n",
      "Outlet_Type                  False\n",
      "Item_Outlet_Sales            False\n",
      "dtype: bool\n"
     ]
    },
    {
     "name": "stderr",
     "output_type": "stream",
     "text": [
      "c:\\users\\harish\\appdata\\local\\programs\\python\\python37\\lib\\site-packages\\sklearn\\utils\\deprecation.py:66: DeprecationWarning: Class Imputer is deprecated; Imputer was deprecated in version 0.20 and will be removed in 0.22. Import impute.SimpleImputer from sklearn instead.\n",
      "  warnings.warn(msg, category=DeprecationWarning)\n"
     ]
    },
    {
     "data": {
      "text/plain": [
       "array([[9.3, 0, 0.016047301, ..., 1999, 0, 1],\n",
       "       [5.92, 1, 0.019278216, ..., 2009, 2, 2],\n",
       "       [17.5, 0, 0.016760075, ..., 1999, 0, 1],\n",
       "       ...,\n",
       "       [10.6, 0, 0.035186271, ..., 2004, 1, 1],\n",
       "       [7.21, 1, 0.145220646, ..., 2009, 2, 2],\n",
       "       [14.8, 0, 0.04487828, ..., 1997, 0, 1]], dtype=object)"
      ]
     },
     "execution_count": 6,
     "metadata": {},
     "output_type": "execute_result"
    }
   ],
   "source": [
    "# Importing Libraries\n",
    "import pandas as pd\n",
    "import numpy as np\n",
    "\n",
    "# Importing Dataset\n",
    "Train = pd.read_csv('Train_bigmart.csv')\n",
    "Test = pd.read_csv('Test_bigmart.csv')\n",
    "\n",
    "# Splitting into Training & Testing\n",
    "X_train, y_train = Train.iloc[:, :-1].values, Train.iloc[:, -1].values\n",
    "\n",
    "# Identifying Categorical Variables, NaN Values\n",
    "print(Train.info())\n",
    "print(Train.isnull().any())\n",
    "\n",
    "# Categorical Variables Indexes:    0, 2, 4, 6, 8, 9, 10\n",
    "# Missing Values in Indexes:        1, 8\n",
    "# Deformed Values in Indexes:       2\n",
    "def prepro(dataset):\n",
    "    X_dataset = dataset.values\n",
    "    # A. Imputing Missing Values\n",
    "    from sklearn.preprocessing import Imputer\n",
    "    impute = Imputer(missing_values='NaN', strategy='mean')\n",
    "    column1 = X_dataset[:, 1].reshape(-1, 1)\n",
    "    X_dataset[:, 1] = impute.fit_transform(column1).reshape(1, -1)\n",
    "\n",
    "    # B. Deformed Values into Uniform Values\n",
    "    X_dataset = pd.DataFrame(X_dataset)\n",
    "    X_dataset.iloc[:, 2] = X_dataset.iloc[:, 2].map({'reg': 'Regular', 'LF': 'Low Fat', 'low fat': 'Low Fat',\n",
    "                                'Low Fat': 'Low Fat', 'Regular': 'Regular'})\n",
    "    X_dataset = X_dataset.values\n",
    "\n",
    "    # Label Encoding for column2\n",
    "    from sklearn.preprocessing import LabelEncoder, OneHotEncoder\n",
    "    label_encoder_1 = LabelEncoder()\n",
    "    X_dataset[:, 2] = label_encoder_1.fit_transform(X_dataset[:, 2])\n",
    "    label_encoder_2 = LabelEncoder()\n",
    "    X_dataset[:, 10] = label_encoder_2.fit_transform(X_dataset[:, 10])\n",
    "    label_encoder_3 = LabelEncoder()\n",
    "    X_dataset[:, 9] = label_encoder_2.fit_transform(X_dataset[:, 9])\n",
    "\n",
    "    # C. Removal of unused Variables\n",
    "    X_dataset = X_dataset[:, [1, 2, 3, 5, 7, 9, 10]]\n",
    "    \n",
    "    return X_dataset\n",
    "X_train = prepro(Train)\n",
    "X_train\n",
    "\n",
    "\n",
    "   "
   ]
  },
  {
   "cell_type": "code",
   "execution_count": 3,
   "metadata": {},
   "outputs": [
    {
     "name": "stderr",
     "output_type": "stream",
     "text": [
      "c:\\users\\harish\\appdata\\local\\programs\\python\\python37\\lib\\site-packages\\sklearn\\utils\\deprecation.py:66: DeprecationWarning: Class Imputer is deprecated; Imputer was deprecated in version 0.20 and will be removed in 0.22. Import impute.SimpleImputer from sklearn instead.\n",
      "  warnings.warn(msg, category=DeprecationWarning)\n",
      "c:\\users\\harish\\appdata\\local\\programs\\python\\python37\\lib\\site-packages\\sklearn\\preprocessing\\_encoders.py:415: FutureWarning: The handling of integer data will change in version 0.22. Currently, the categories are determined based on the range [0, max(values)], while in the future they will be determined based on the unique values.\n",
      "If you want the future behaviour and silence this warning, you can specify \"categories='auto'\".\n",
      "In case you used a LabelEncoder before this OneHotEncoder to convert the categories to integers, then you can now use the OneHotEncoder directly.\n",
      "  warnings.warn(msg, FutureWarning)\n",
      "c:\\users\\harish\\appdata\\local\\programs\\python\\python37\\lib\\site-packages\\sklearn\\preprocessing\\_encoders.py:451: DeprecationWarning: The 'categorical_features' keyword is deprecated in version 0.20 and will be removed in 0.22. You can use the ColumnTransformer instead.\n",
      "  \"use the ColumnTransformer instead.\", DeprecationWarning)\n"
     ]
    },
    {
     "name": "stdout",
     "output_type": "stream",
     "text": [
      "CHECK FOR: 07_BigMartSales_RESULTS.csv IN WORKING DIRECTORY\n"
     ]
    }
   ],
   "source": [
    " # D. Hot Encoding\n",
    "    \n",
    "# Machine: Regressor | Regressor: Linear\n",
    "\n",
    "from sklearn.linear_model import LinearRegression\n",
    "lin_reg = LinearRegression()\n",
    "lin_reg.fit(X_train, y_train)\n",
    "X_test = prepro(dataset=Test)\n",
    "y_pred = lin_reg.predict(X_test)\n",
    "\n",
    "X_df = pd.DataFrame(X_test)\n",
    "y_df = pd.DataFrame(y_pred)\n",
    "Headers = pd.DataFrame(Test.iloc[:, [0, 6]])\n",
    "\n",
    "Result = pd.concat([Headers, X_df, y_df], axis=1, ignore_index=True)\n",
    "Result = Result.rename(columns={0: 'Item Identifier', 1: 'Outlet Identifier', 14: 'Predicted Outlet Sales'})\n",
    "Result.to_csv('07_BigMartSales_RESULTS.csv', index=False)\n",
    "print('CHECK FOR: 07_BigMartSales_RESULTS.csv IN WORKING DIRECTORY')\n"
   ]
  },
  {
   "cell_type": "code",
   "execution_count": null,
   "metadata": {},
   "outputs": [],
   "source": []
  }
 ],
 "metadata": {
  "kernelspec": {
   "display_name": "Python 3",
   "language": "python",
   "name": "python3"
  },
  "language_info": {
   "codemirror_mode": {
    "name": "ipython",
    "version": 3
   },
   "file_extension": ".py",
   "mimetype": "text/x-python",
   "name": "python",
   "nbconvert_exporter": "python",
   "pygments_lexer": "ipython3",
   "version": "3.7.3"
  }
 },
 "nbformat": 4,
 "nbformat_minor": 2
}
